{
 "cells": [
  {
   "cell_type": "markdown",
   "metadata": {},
   "source": [
    "# Unconfined Aquifer\n",
    "Jupyter Notebook adapted from FloPy Tutorial 2: http://modflowpy.github.io/flopydoc/tutorial2.html\n",
    "\n",
    "FloPy Code Description (parameter functions, defaults, and data types): http://modflowpy.github.io/flopydoc/code.html\n",
    "\n",
    "MODFLOW-2005 Guide (generally more informative parameter descriptions): https://water.usgs.gov/ogw/modflow/MODFLOW-2005-Guide/\n",
    "\n",
    "Matplotlib Gallery/Examples (full details (including jupyter notebooks!) of plotting code): https://matplotlib.org/gallery/index.html\n",
    "\n",
    "NumPy Reference Manual (full details of NumPy code): https://docs.scipy.org/doc/numpy-1.13.0/reference/index.html\n",
    "\n",
    "Package output files saved in the directory with appropriate extensions; this parameter can be changed.\n",
    "\n",
    "All object files are then fed into the modelling programme to determine groundwater flow."
   ]
  },
  {
   "cell_type": "markdown",
   "metadata": {},
   "source": [
    "### Jupyter Notebook Shortcuts\n",
    "\n",
    "Command Mode (blue, 'ESC')\n",
    "\n",
    "     H = help (shortcut list)         C = copy cell             Y = code                     arrow = scroll through cells\n",
    "     A = insert cell above            X = cut cell              M = markup             shift-arrow = highlight  cells\n",
    "     B = insert cell below            V = paste below         6-1 = heading size           shift-M = merge cells\n",
    "    DD = delete cell            shift-V = paste above               number of #s\n",
    "         \n",
    "Edit Mode (green, 'Enter')\n",
    "\n",
    "     ctrl-enter = run cell                          ctrl-Z = undo                       tab or ctrl-[ = indent (line start)\n",
    "    shift-enter = & select below              ctrl-shift-Z = redo                              ctrl-] = dedent (line start)\n",
    "      alt-enter = & insert below       control-shift-minus = split cell (above current line)"
   ]
  },
  {
   "cell_type": "markdown",
   "metadata": {},
   "source": [
    "...\n",
    "\n",
    "## Import Modules"
   ]
  },
  {
   "cell_type": "code",
   "execution_count": 59,
   "metadata": {
    "collapsed": true,
    "scrolled": true
   },
   "outputs": [],
   "source": [
    "import numpy as np  #'numpy' = 'fundamental package for scientific computing with python'\n",
    "import flopy        #'flopy' = 'package for creating, running, and post-processing MODLFOW-based models with python'\n",
    "                    #'import__as__' = searches for the named module and binds the result to a name/alias in local scope"
   ]
  },
  {
   "cell_type": "markdown",
   "metadata": {},
   "source": [
    "## Create Model Object\n",
    "Modpath (mp) base class information: https://modflowpy.github.io/flopydoc/mp.html"
   ]
  },
  {
   "cell_type": "code",
   "execution_count": 60,
   "metadata": {},
   "outputs": [
    {
     "name": "stdout",
     "output_type": "stream",
     "text": [
      "MODFLOW 0 layer(s), 0 row(s), 0 column(s), 0 stress period(s)\n"
     ]
    }
   ],
   "source": [
    "modelname = 'unconfined'  #assign modflow model object name\n",
    "mf = flopy.modflow.Modflow(modelname, exe_name='mf2005') #create modflow model object and specify executable\n",
    "            # object = python module.flopy module.module class(class parameters)\n",
    "print(mf)   #'print' = details of given object - useful for assessing what's going on"
   ]
  },
  {
   "cell_type": "markdown",
   "metadata": {},
   "source": [
    "...\n",
    "\n",
    "## Discretisation (DIS) Package\n",
    "mfdis class information: http://modflowpy.github.io/flopydoc/mfdis.html"
   ]
  },
  {
   "cell_type": "markdown",
   "metadata": {},
   "source": [
    "### Define Model Domain"
   ]
  },
  {
   "cell_type": "code",
   "execution_count": 61,
   "metadata": {
    "collapsed": true
   },
   "outputs": [],
   "source": [
    "Lx = 1000.       #'Lx' = grid length in x-direction                                                                \n",
    "Ly = 1000.       #'Ly' = grid length in y-direction                                                                   \n",
    "ztop = 0.        #'ztop' = highest elevation in z-direction                                                                \n",
    "zbot = -50.      #'zbot' = lowest elevation in z-direction                                                                "
   ]
  },
  {
   "cell_type": "markdown",
   "metadata": {},
   "source": [
    "### Define MODFLOW Grid"
   ]
  },
  {
   "cell_type": "code",
   "execution_count": 62,
   "metadata": {
    "collapsed": true
   },
   "outputs": [],
   "source": [
    "nlay = 1         #'nlay' = number of layers\n",
    "nrow = 10        #'nrow' = number of rows                                                              \n",
    "ncol = 10        #'ncol' = number of columns                                                              \n",
    "delr = Lx/ncol         #'delr' = array of spacings along row                                                                \n",
    "delc = Ly/nrow         #'delr' = array of spacings along column                                                             \n",
    "delv = (ztop - zbot) / nlay      #'delr' = array of spacings along column                                                  \n",
    "botm = np.linspace(ztop, zbot, nlay + 1)      #'botm' = array of bottom elevation for each cell"
   ]
  },
  {
   "cell_type": "markdown",
   "metadata": {},
   "source": [
    "### DefineTime Parameters"
   ]
  },
  {
   "cell_type": "code",
   "execution_count": 63,
   "metadata": {
    "collapsed": true
   },
   "outputs": [],
   "source": [
    "nper = 3                         #'nper' = number of model stress periods\n",
    "perlen = [1, 100, 100]           #'perlen' = array of the stress period lengths\n",
    "nstp = [1, 100, 100]             #'nstp' = number of time steps in each stress period\n",
    "steady = [True, False, False]    #'steady' = stress field steady state indication - true or false"
   ]
  },
  {
   "cell_type": "markdown",
   "metadata": {},
   "source": [
    "### Create DIS Object"
   ]
  },
  {
   "cell_type": "code",
   "execution_count": 64,
   "metadata": {
    "collapsed": true
   },
   "outputs": [],
   "source": [
    "dis = flopy.modflow.ModflowDis(mf, nlay=nlay, nrow=nrow, ncol=ncol, delr=delr, delc=delc, top=ztop, botm=botm[1:],\n",
    "                               nper=nper, perlen=perlen, nstp=nstp, steady=steady,) # all parameters as above"
   ]
  },
  {
   "cell_type": "markdown",
   "metadata": {},
   "source": [
    "...\n",
    "\n",
    "## Basic (BAS) Package \n",
    "mfbas class information: http://modflowpy.github.io/flopydoc/mfbas.html"
   ]
  },
  {
   "cell_type": "markdown",
   "metadata": {},
   "source": [
    "### Define Basic Parameters"
   ]
  },
  {
   "cell_type": "code",
   "execution_count": 65,
   "metadata": {
    "collapsed": true,
    "scrolled": true
   },
   "outputs": [],
   "source": [
    "ibound = np.ones((nlay, nrow, ncol), dtype=np.int32)         #'ibound' = boundary conditions - equal conditions in all cells\n",
    "        #'ibound[:, :, 0] = -1' = no flow (-1) though all (:) layers and rows in first columnn (0)\n",
    "        #'ibound[:, :, -1] = -1' = no flow (-1) though all (:) layers and rows in last columnn (-1)\n",
    "strt = 10*np.ones((nlay, nrow, ncol), dtype=np.float32)      #'strt' = starting head - 10 within all cells\n",
    "        #'strt[:, :, 0] = 9.' = starting head of 9 in all (:) layers and rows in first columnn (0)\n",
    "        #'strt[:, :, -1] = 0.' = starting head of 0 in all (:) layers and rows in first columnn (0)"
   ]
  },
  {
   "cell_type": "markdown",
   "metadata": {},
   "source": [
    "### Create BAS Object"
   ]
  },
  {
   "cell_type": "code",
   "execution_count": 66,
   "metadata": {
    "collapsed": true,
    "scrolled": true
   },
   "outputs": [],
   "source": [
    "bas = flopy.modflow.ModflowBas(mf, ibound=ibound, strt=strt) # (model,boundary conditions,starting heads)"
   ]
  },
  {
   "cell_type": "markdown",
   "metadata": {},
   "source": [
    "...\n",
    "\n",
    "## Layer Property Flow (LPF) Package \n",
    "mflpf class information: http://modflowpy.github.io/flopydoc/mflpf.html"
   ]
  },
  {
   "cell_type": "markdown",
   "metadata": {},
   "source": [
    "### Define Layer Flow Parameters"
   ]
  },
  {
   "cell_type": "code",
   "execution_count": 67,
   "metadata": {
    "collapsed": true
   },
   "outputs": [],
   "source": [
    "hk = 1.      #'hk' = horizontal hydraulic conductivity along rows\n",
    "vka = 1.     #'vka' = vertical hydraulic conductivity along rows\n",
    "sy = 0.15    #'sy' = specific yield\n",
    "ss = 10.e-5  #'ss' = specific storage\n",
    "laytyp = 1   #'laytip' = layer type - (1 = unconfined, 0 = confined)"
   ]
  },
  {
   "cell_type": "markdown",
   "metadata": {},
   "source": [
    "### Create LPF Object"
   ]
  },
  {
   "cell_type": "code",
   "execution_count": 68,
   "metadata": {
    "collapsed": true
   },
   "outputs": [],
   "source": [
    "lpf = flopy.modflow.ModflowLpf(mf, laytyp=laytyp, hk=hk, vka=vka, ss=ss, sy=sy,ipakcb=53)"
   ]
  },
  {
   "cell_type": "markdown",
   "metadata": {},
   "source": [
    "...\n",
    "\n",
    "## General-Head Boundary (GHB) Package\n",
    "mfghb class information: https://modflowpy.github.io/flopydoc/mfghb.html"
   ]
  },
  {
   "cell_type": "markdown",
   "metadata": {},
   "source": [
    "### Define Stress Period 1"
   ]
  },
  {
   "cell_type": "code",
   "execution_count": 69,
   "metadata": {},
   "outputs": [
    {
     "name": "stdout",
     "output_type": "stream",
     "text": [
      "Adding 20 GHBs for stress period 1.\n"
     ]
    }
   ],
   "source": [
    "stagel = 10.           #'stageleft' = left boundary head\n",
    "stager = 10.           #'stageright' = right boundary head\n",
    "bound_sp1 = []         #'bound_sp1' = name array of stress period parameters\n",
    "for il in range(nlay):                   # for 0 in range(0, 1) - no effect with 1 layer\n",
    "    condl = hk * (stagel - zbot) * delc  #'condleft' = left boundary conductance\n",
    "    condr = hk * (stager - zbot) * delc  #'condright' = right boundary conductance\n",
    "    for ir in range(nrow):                                     # for 9 in range(0, 10)\n",
    "        bound_sp1.append([il, ir, 0, stagel, condl])           # define first GHB cel\n",
    "        bound_sp1.append([il, ir, ncol - 1, stager, condr])    # define last GHB cell\n",
    "print ('Adding', len(bound_sp1), 'GHBs for stress period 1.')  # print number of GHB cells"
   ]
  },
  {
   "cell_type": "markdown",
   "metadata": {},
   "source": [
    "### Define Stress Period 2"
   ]
  },
  {
   "cell_type": "code",
   "execution_count": 70,
   "metadata": {},
   "outputs": [
    {
     "name": "stdout",
     "output_type": "stream",
     "text": [
      "Adding 20 GHBs for stress period 2.\n"
     ]
    }
   ],
   "source": [
    "stagel = 10.           #'stageleft' = left boundary head\n",
    "stager = 0.            #'stageright' = right boundary head\n",
    "bound_sp2 = []         #'bound_sp1' = name array of stress period parameters\n",
    "for il in range(nlay):                   # for 0 in range(0, 1) - no effect with 1 layer\n",
    "    condl = hk * (stagel - zbot) * delc  #'condleft' = left boundary conductance\n",
    "    condr = hk * (stager - zbot) * delc  #'condright' = left boundary conductance\n",
    "    for ir in range(nrow):                                     # for 9 in range(0, 10)\n",
    "        bound_sp2.append([il, ir, 0, stagel, condl])           # define first GHB cell\n",
    "        bound_sp2.append([il, ir, ncol - 1, stager, condr])    # define last GHB cell\n",
    "print ('Adding', len(bound_sp2), 'GHBs for stress period 2.')  # print number of GHB cells"
   ]
  },
  {
   "cell_type": "markdown",
   "metadata": {},
   "source": [
    "### Create SP Dictionary"
   ]
  },
  {
   "cell_type": "code",
   "execution_count": 71,
   "metadata": {
    "collapsed": true
   },
   "outputs": [],
   "source": [
    "spd = {0: bound_sp1, 1: bound_sp2}  #'stress_period_data' = list of boundaries for stress periods\n",
    "                                    # stress periods themselves defined by a list of boundaries\n",
    "                                    # last defined stress period applies to any undefined periods that follow"
   ]
  },
  {
   "cell_type": "markdown",
   "metadata": {},
   "source": [
    "### Create GHB Object"
   ]
  },
  {
   "cell_type": "code",
   "execution_count": 72,
   "metadata": {
    "collapsed": true
   },
   "outputs": [],
   "source": [
    "ghb = flopy.modflow.ModflowGhb(mf, stress_period_data=spd)"
   ]
  },
  {
   "cell_type": "markdown",
   "metadata": {},
   "source": [
    "...\n",
    "\n",
    "## Well (WEL) Package\n",
    "mfwel class infromation: https://modflowpy.github.io/flopydoc/mfwel.html"
   ]
  },
  {
   "cell_type": "markdown",
   "metadata": {},
   "source": [
    "### Define Well Parameters"
   ]
  },
  {
   "cell_type": "code",
   "execution_count": 73,
   "metadata": {
    "collapsed": true
   },
   "outputs": [],
   "source": [
    "# Define well position and abstraction during each stress period - [lay, row, col, flux]\n",
    "pumping_rate = -100     #'pumping_rate' = define rate of abstraction - must be negative\n",
    "wel_sp1 = [[0, nrow/2 - 1, ncol/2 - 1, 0.]]            #'0' = no abstraction\n",
    "wel_sp2 = [[0, nrow/2 - 1, ncol/2 - 1, 0.]]            #'0' = no abstraction\n",
    "wel_sp3 = [[0, nrow/2 - 1, ncol/2 - 1, pumping_rate]]  #'<0' = abstraction\n",
    "    #position [0, nrow/2 -1, ncol/2 -1] is obviously the same throughout"
   ]
  },
  {
   "cell_type": "markdown",
   "metadata": {},
   "source": [
    "### Create SP Dictionary"
   ]
  },
  {
   "cell_type": "code",
   "execution_count": 74,
   "metadata": {
    "collapsed": true
   },
   "outputs": [],
   "source": [
    "spd = {0: wel_sp1, 1: wel_sp2, 2: wel_sp3}"
   ]
  },
  {
   "cell_type": "markdown",
   "metadata": {},
   "source": [
    "### Create WEL Object"
   ]
  },
  {
   "cell_type": "code",
   "execution_count": 75,
   "metadata": {
    "collapsed": true
   },
   "outputs": [],
   "source": [
    "wel = flopy.modflow.ModflowWel(mf, stress_period_data=spd)"
   ]
  },
  {
   "cell_type": "markdown",
   "metadata": {},
   "source": [
    "...\n",
    "\n",
    "## Output Control (OC) Package\n",
    "mfoc class information: http://modflowpy.github.io/flopydoc/mfoc.html"
   ]
  },
  {
   "cell_type": "markdown",
   "metadata": {},
   "source": [
    "### Create SP Dictionary"
   ]
  },
  {
   "cell_type": "code",
   "execution_count": 76,
   "metadata": {
    "collapsed": true
   },
   "outputs": [],
   "source": [
    "spd = {(0, 0): ['print head', 'print budget', 'save head', 'save budget']}\n",
    "    #'(IPEROC, ITSOC)' = first stress period (PER) and time step (TS), in stress period, at which output is desired - 0 = 1st\n",
    "    #'print' = model output written to the internal list file\n",
    "    #'save' = model output written to an external binary file\n",
    "    #'print head' = \n",
    "    #'save head' = \n",
    "    #'print budget' = write overall volumetric budget to a list file\n",
    "    #'save budget' = write cell-by-cell budget data to a binary file"
   ]
  },
  {
   "cell_type": "markdown",
   "metadata": {},
   "source": [
    "### Create OC Object"
   ]
  },
  {
   "cell_type": "code",
   "execution_count": 77,
   "metadata": {
    "collapsed": true
   },
   "outputs": [],
   "source": [
    "oc = flopy.modflow.ModflowOc(mf, stress_period_data=spd, compact=True)\n",
    "    #'compact' = saves time step size, stress period elapsed time, and total elapsed time within budget file to reduce size"
   ]
  },
  {
   "cell_type": "markdown",
   "metadata": {},
   "source": [
    "...\n",
    "\n",
    "## Preconditioned Conjugate Gradient (PCG) Package\n",
    "mfpcg class information: http://modflowpy.github.io/flopydoc/mfpcg.html"
   ]
  },
  {
   "cell_type": "code",
   "execution_count": 78,
   "metadata": {
    "collapsed": true
   },
   "outputs": [],
   "source": [
    "pcg = flopy.modflow.ModflowPcg(mf) #'mf' = model; all other parameters set to defaults\n",
    "    #mxiter=50, iter1=30, npcond=1, hclose=1e-05, rclose=1e-05, relax=1.0\n",
    "    #nbpol=0, iprpcg=0, mutpcg=3, damp=1.0, dampt=1.0, ihcofadd=0"
   ]
  },
  {
   "cell_type": "markdown",
   "metadata": {},
   "source": [
    "...\n",
    "\n",
    "## Write MODFLOW Data Files\n",
    "Modpath (mp) base class information: https://modflowpy.github.io/flopydoc/mp.html"
   ]
  },
  {
   "cell_type": "code",
   "execution_count": 79,
   "metadata": {},
   "outputs": [
    {
     "name": "stdout",
     "output_type": "stream",
     "text": [
      "warning: assuming SpatialReference units are meters\n"
     ]
    }
   ],
   "source": [
    "mf.write_input() # writes all output files as controlled by previously created package objects"
   ]
  },
  {
   "cell_type": "markdown",
   "metadata": {},
   "source": [
    "...\n",
    "\n",
    "## Run MODFLOW Model\n",
    "Modpath (mp) base class information: https://modflowpy.github.io/flopydoc/mp.html\n",
    "\n",
    "Flopy can run the model object (mf) through the model programme (mf2005).\n",
    "\n",
    "Model object and programme are specified at the beginning of the notebook.\n",
    "\n",
    "The programme must be located within the system path or working directory."
   ]
  },
  {
   "cell_type": "code",
   "execution_count": 80,
   "metadata": {
    "collapsed": true
   },
   "outputs": [],
   "source": [
    "success, mfoutput = mf.run_model(silent=True, pause=False, report=True)  # model is run if successful\n",
    "if not success:                                                          # if the model is not run\n",
    "    raise Exception('MODFLOW did not terminate normally.')               # print an error message"
   ]
  },
  {
   "cell_type": "markdown",
   "metadata": {},
   "source": [
    "...\n",
    "\n",
    "## Post-Processing Results\n",
    "matplotlib code: https://matplotlib.org/gallery/index.html"
   ]
  },
  {
   "cell_type": "markdown",
   "metadata": {},
   "source": [
    "### Import Libraries"
   ]
  },
  {
   "cell_type": "code",
   "execution_count": 81,
   "metadata": {
    "collapsed": true
   },
   "outputs": [],
   "source": [
    "%matplotlib inline\n",
    "        #'%' = line-oriented magic function = all subsequent words on line are arguments for the first (including after #)\n",
    "        #'%%' = cell-oriented magic function = all subsequent words in cell are arguments for the first\n",
    "        #'matplotlib' = library for plotting 2D figures with python\n",
    "        #'inline' = changes backend matlibplot to produce plots below requested cell at frontend (Jupyter)"
   ]
  },
  {
   "cell_type": "markdown",
   "metadata": {},
   "source": [
    "### Matplotlib Settings"
   ]
  },
  {
   "cell_type": "code",
   "execution_count": 82,
   "metadata": {
    "collapsed": true,
    "scrolled": true
   },
   "outputs": [],
   "source": [
    "import matplotlib.pyplot as plt       # plotting                              \n",
    "import flopy.utils.binaryfile as bf   # binary file reading                                "
   ]
  },
  {
   "cell_type": "markdown",
   "metadata": {},
   "source": [
    "### Matplotlib Settings"
   ]
  },
  {
   "cell_type": "code",
   "execution_count": 83,
   "metadata": {
    "collapsed": true
   },
   "outputs": [],
   "source": [
    "%matplotlib inline\n",
    "        #'%' = line-oriented magic function = all subsequent words on line are arguments for the first (including after #)\n",
    "        #'%%' = cell-oriented magic function = all subsequent words in cell are arguments for the first\n",
    "        #'matplotlib' = library for plotting 2D figures with python\n",
    "        #'inline' = changes backend matlibplot to produce plots below requested cell at frontend (Jupyter)"
   ]
  },
  {
   "cell_type": "markdown",
   "metadata": {},
   "source": [
    "### Create Headfile Object"
   ]
  },
  {
   "cell_type": "code",
   "execution_count": 84,
   "metadata": {
    "collapsed": true,
    "scrolled": true
   },
   "outputs": [],
   "source": [
    "HeadObj = bf.HeadFile(modelname+'.hds')  #                                            \n",
    "times = HeadObj.get_times()              #                                           "
   ]
  },
  {
   "cell_type": "markdown",
   "metadata": {},
   "source": [
    "### Define Contour Parameters"
   ]
  },
  {
   "cell_type": "code",
   "execution_count": 85,
   "metadata": {
    "scrolled": true
   },
   "outputs": [
    {
     "name": "stdout",
     "output_type": "stream",
     "text": [
      "Levels:  [  0.   1.   2.   3.   4.   5.   6.   7.   8.   9.  10.]\n",
      "Extent:  (50.0, 950.0, 50.0, 950.0)\n"
     ]
    }
   ],
   "source": [
    "levels = np.linspace(0, 10, 11)                          #'linespace' = contour spacing - (lowest, highest, number)\n",
    "extent = (delr/2., Lx - delr/2., delc/2., Ly - delc/2.)  #'extent' = axes limits - (left, right, bottom, top)\n",
    "print ('Levels: ', levels)                               # print array of contour values\n",
    "print ('Extent: ', extent)                               # print array of axes limit values"
   ]
  },
  {
   "cell_type": "markdown",
   "metadata": {},
   "source": [
    "### Create Well Point"
   ]
  },
  {
   "cell_type": "code",
   "execution_count": 86,
   "metadata": {
    "collapsed": true,
    "scrolled": true
   },
   "outputs": [],
   "source": [
    "wpt = ((float(ncol/2)-0.5)*delr, (float(nrow/2-1)+0.5)*delc)\n",
    "wpt = (450., 550.)                                              # well position"
   ]
  },
  {
   "cell_type": "markdown",
   "metadata": {},
   "source": [
    "### Create Plots\n",
    "Subsections must appear in the same cell to run through the same for loop and appear in the correct order"
   ]
  },
  {
   "cell_type": "code",
   "execution_count": 88,
   "metadata": {},
   "outputs": [
    {
     "name": "stdout",
     "output_type": "stream",
     "text": [
      "\n",
      "\n",
      "    Processing Time:  1.0\n",
      "    Head Stats: Min:  10.0\n",
      "                Max:  10.0\n",
      "                STD:  0.0\n"
     ]
    },
    {
     "data": {
      "image/png": "[encoded data removed]",
      "text/plain": [
       "<matplotlib.figure.Figure at 0x16af81f3160>"
      ]
     },
     "metadata": {},
     "output_type": "display_data"
    },
    {
     "name": "stdout",
     "output_type": "stream",
     "text": [
      "\n",
      "\n",
      "    Processing Time:  101.0\n",
      "    Head Stats: Min:  0.0110888\n",
      "                Max:  9.99076\n",
      "                STD:  3.18494\n"
     ]
    },
    {
     "data": {
      "image/png": "[encoded data removed]",
      "text/plain": [
       "<matplotlib.figure.Figure at 0x16af7f5d2e8>"
      ]
     },
     "metadata": {},
     "output_type": "display_data"
    },
    {
     "name": "stdout",
     "output_type": "stream",
     "text": [
      "\n",
      "\n",
      "    Processing Time:  201.0\n",
      "    Head Stats: Min:  0.00998603\n",
      "                Max:  9.99018\n",
      "                STD:  3.17831\n"
     ]
    },
    {
     "data": {
      "image/png": "[encoded data removed]",
      "text/plain": [
       "<matplotlib.figure.Figure at 0x16af7c39438>"
      ]
     },
     "metadata": {},
     "output_type": "display_data"
    },
    {
     "data": {
      "image/png": "[encoded data removed]",
      "text/plain": [
       "<matplotlib.figure.Figure at 0x16af81f3f28>"
      ]
     },
     "metadata": {},
     "output_type": "display_data"
    },
    {
     "name": "stdout",
     "output_type": "stream",
     "text": [
      "(0, 4.0, 4.0)\n"
     ]
    }
   ],
   "source": [
    "mytimes = [1.0, 101.0, 201.0]                # array of times at which to plot output\n",
    "for iplot, time in enumerate(mytimes):       #'enumerate' = count variable position within array\n",
    "    \n",
    "    #'subplot' = create subplot\n",
    "    #plt.subplot(1, len(mytimes), iplot + 1, aspect='equal')\n",
    "    plt.subplot(1, 1, 1, aspect='equal')\n",
    "            # subplot(A,B,C,D): A = rows, B = columns, C = section, D = equal axes ratio\n",
    "        \n",
    "    print ('\\n\\n    Processing Time: ', time)    # print time after start represented by output\n",
    "    head = HeadObj.get_data(totim=time)          #\n",
    "    \n",
    "    # Calculate/Print statistics\n",
    "    print ('    Head Stats: Min: ', head.min())  # calculate and print minimum head\n",
    "    print ('                Max: ', head.max())  # calculate and print maximum head          \n",
    "    print ('                STD: ', head.std())  # calculate and print standard deviation in head\n",
    "\n",
    "    #'title' = plot title\n",
    "    plt.title('Stress Period ' + str(iplot + 1))                                    \n",
    "            #'title('A' B(n))' = print text (A) and nth value of array (B)\n",
    "        \n",
    "    #'imshow' = plot image (surface) on axes\n",
    "    plt.imshow(head[0, :, :], extent=extent, cmap='viridis_r', vmin=0., vmax=10.)\n",
    "            #'head[0,;,;]' = matrix of values for head of layer 1 in all rows and columns, 'extent' = axes limits\n",
    "            #'cmap' = colorbar name, 'vmin' = minimum colorbar value, 'vmax' = maximum colorbar value\n",
    "            \n",
    "    plt.colorbar()          #'colourbar' = plot most recently used colorbar\n",
    "            \n",
    "    #'contour' = plot contours\n",
    "    CS = plt.contour(np.flipud(head[0, :, :]), cmap='Greys_r', levels=levels, extent=extent, order=10)\n",
    "            #'flipud' = flip array up/down, head[0,;,;]' = matrix of values for head of layer 1 in all rows and columns,\n",
    "            #'cmap' = colorbar name,'levels' = contour values, extent' = axes limits,\n",
    "            \n",
    "    #'clabel' = plot contour labels       \n",
    "    plt.clabel(CS, inline=1, fontsize=10, fmt='%1.0f', zorder=12) \n",
    "            #'CS' = name of contour object, 'inline' =, 'fmt' = data format, 'zorder' = drawing order\n",
    "    \n",
    "    # Define well point colour\n",
    "    mfc = 'None'                   #'mfc' = marker face colour\n",
    "    if (iplot+1) == len(mytimes):  # when abstracting                  \n",
    "        mfc='black'                # change mfc to black\n",
    "        \n",
    "    #'plot' = plot well point    \n",
    "    plt.plot(wpt[0], wpt[1], lw=0, marker='o', ms=8, mew=0.5, mec='black', mfc=mfc, zorder=9)  # plot well point\n",
    "            #'wpt[0]' = x-axis position, 'wpt[1]' = y-axis position  <- both same as well point position\n",
    "            #'lw' = line width, 'marker' = marker shape, 'ms' = marker size, 'mew' = marker edge width,\n",
    "            #'mec' = marker edge colour, 'mfc' = marker face colour, 'zorder' = drawing order (low z = low layer = first)\n",
    "    \n",
    "    #'text' = plot text on plot\n",
    "    plt.text(wpt[0]-40, wpt[1]-60, 'well', size=12, zorder=12)\n",
    "            #(A,B,C,D,E): A = x-axis position, B = y-axis position  <- both relative to well point position\n",
    "            # C = text printed, D = text size, E = drawing order\n",
    "            \n",
    "    plt.show()  #'show' = display plot (plots overlap if not indented)\n",
    "plt.show()      # not actually required\n",
    "\n",
    "# Plot head vs time\n",
    "idx = (0, nrow/2 - 1, ncol/2 - 1)  #\n",
    "ts = HeadObj.get_ts(idx)           #\n",
    "plt.title('\\n\\nHead at Cell ({0}, {1}, {2})'.format(idx[0] + 1, idx[1] + 1, idx[2] + 1))\n",
    "plt.xlabel('Time (days)')          #'xlabel' = plot x label\n",
    "plt.ylabel('Head (m)')             #'ylabel' = plot y label\n",
    "plt.plot(ts[:, 0], ts[:, 1])       #'plot(x,y)' = plot ts column 1 (time) against ts column 2 (head)\n",
    "plt.show()                         #'show' = display plot\n",
    "print(idx)\n"
   ]
  },
  {
   "cell_type": "markdown",
   "metadata": {},
   "source": [
    "...\n",
    "\n",
    "## Plot Summary"
   ]
  },
  {
   "cell_type": "markdown",
   "metadata": {},
   "source": [
    "### Varying Specific Yield/Storage"
   ]
  },
  {
   "cell_type": "markdown",
   "metadata": {},
   "source": [
    "SS has an effect on the response of water - gradient of curve towards euilibrium. More important in confined aquifers.\n",
    "SY has a similar effect but i didnt really hear. More important in unconfined aquifers. More effect at low K.\n",
    "Neither SS or SY change the steady state head; just rate at which it is reached."
   ]
  },
  {
   "cell_type": "markdown",
   "metadata": {},
   "source": [
    "### Varying Hydraulic Conductivity"
   ]
  },
  {
   "cell_type": "markdown",
   "metadata": {},
   "source": [
    "#### Changes in Output\n",
    "\n",
    "K > 10^-3 = very little change\n",
    "\n",
    "K = 10^-4 = significant change\n",
    "\n",
    "K < 10^-5 = ~complete drainage\n",
    "\n",
    "#### Head Values\n",
    "\n",
    "10^-0 K: mean(101) = 5.000, mean(201) = 4.800, std(101) = 3.185, std(201) = 3.178\n",
    "\n",
    "10^-1 K: mean(101) = 5.000, mean(201) = 4.800, std(101) = 3.185, std(201) = 3.178\n",
    "\n",
    "10^-2 K: mean(101) = 5.001, mean(201) = 4.800, std(101) = 3.128, std(201) = 3.121\n",
    "\n",
    "10^-3 K: mean(101) = 5.077, mean(201) = 4.787, std(101) = 2.651, std(201) = 2.645\n",
    "\n",
    "10^-4 K: mean(101) = 5.305, mean(201) = 4.196, std(101) = 1.051, std(201) = 1.051\n",
    "\n",
    "10^-5 K: mean(101) = 5.967, mean(201) = 0.097, std(101) = 0.148, std(201) = 0.172\n",
    "\n",
    "10^-6 K: mean(101) = 9.104, mean(201) = 0.000, std(101) = 0.015, std(201) = 0.089\n",
    "\n",
    "#### Interpretation of Values\n",
    "\n",
    "Reduced K = reduced head gradient = reduced flow rate = increased equilibration time.\n",
    "\n",
    "Reduced K = higher head at natural (sp2) equilibrium & lower head at pumping (sp3) equilibrium."
   ]
  },
  {
   "cell_type": "code",
   "execution_count": null,
   "metadata": {
    "collapsed": true
   },
   "outputs": [],
   "source": []
  }
 ],
 "metadata": {
  "anaconda-cloud": {},
  "kernelspec": {
   "display_name": "Python 3",
   "language": "python",
   "name": "python3"
  },
  "language_info": {
   "codemirror_mode": {
    "name": "ipython",
    "version": 3
   },
   "file_extension": ".py",
   "mimetype": "text/x-python",
   "name": "python",
   "nbconvert_exporter": "python",
   "pygments_lexer": "ipython3",
   "version": "3.6.2"
  }
 },
 "nbformat": 4,
 "nbformat_minor": 2
}
